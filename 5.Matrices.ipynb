{
 "cells": [
  {
   "cell_type": "markdown",
   "metadata": {},
   "source": [
    "# R - Matrices"
   ]
  },
  {
   "cell_type": "markdown",
   "metadata": {},
   "source": [
    "Matrices are the R objects in which the elements are arranged in a two-dimensional rectangular layout. They contain elements of the same atomic types. Though we can create a matrix containing only characters or only logical values, they are not of much use. We use matrices containing numeric elements to be used in mathematical calculations."
   ]
  },
  {
   "cell_type": "markdown",
   "metadata": {},
   "source": [
    "A Matrix is created using the <b>matrix()</b> function."
   ]
  },
  {
   "cell_type": "markdown",
   "metadata": {},
   "source": [
    "## Syntax\n",
    "The basic syntax for creating a matrix in R is −"
   ]
  },
  {
   "cell_type": "markdown",
   "metadata": {},
   "source": [
    "####  matrix(data, nrow, ncol, byrow, dimnames)"
   ]
  },
  {
   "cell_type": "markdown",
   "metadata": {},
   "source": [
    "Following is the description of the parameters used −"
   ]
  },
  {
   "cell_type": "markdown",
   "metadata": {},
   "source": [
    "* data is the input vector which becomes the data elements of the matrix.\n",
    "\n",
    "* nrow is the number of rows to be created.\n",
    "\n",
    "* ncol is the number of columns to be created.\n",
    "\n",
    "* byrow is a logical clue. If TRUE then the input vector elements are arranged by row.\n",
    "\n",
    "* dimname is the names assigned to the rows and columns."
   ]
  },
  {
   "cell_type": "markdown",
   "metadata": {},
   "source": [
    "#### Example\n",
    "Create a matrix taking a vector of numbers as input."
   ]
  },
  {
   "cell_type": "code",
   "execution_count": 4,
   "metadata": {},
   "outputs": [
    {
     "name": "stdout",
     "output_type": "stream",
     "text": [
      "     [,1] [,2] [,3]\n",
      "[1,]    3    4    5\n",
      "[2,]    6    7    8\n",
      "[3,]    9   10   11\n",
      "[4,]   12   13   14\n"
     ]
    }
   ],
   "source": [
    "# Elements are arranged sequentially by row.\n",
    "M <- matrix(c(3:14), nrow = 4, byrow = TRUE)\n",
    "print(M)"
   ]
  },
  {
   "cell_type": "code",
   "execution_count": 5,
   "metadata": {},
   "outputs": [
    {
     "name": "stdout",
     "output_type": "stream",
     "text": [
      "     [,1] [,2] [,3]\n",
      "[1,]    3    7   11\n",
      "[2,]    4    8   12\n",
      "[3,]    5    9   13\n",
      "[4,]    6   10   14\n"
     ]
    }
   ],
   "source": [
    "# Elements are arranged sequentially by column.\n",
    "N <- matrix(c(3:14), nrow = 4, byrow = FALSE)\n",
    "print(N)"
   ]
  },
  {
   "cell_type": "code",
   "execution_count": 6,
   "metadata": {},
   "outputs": [
    {
     "name": "stdout",
     "output_type": "stream",
     "text": [
      "     [,1] [,2] [,3] [,4]\n",
      "[1,]    3    7   11    3\n",
      "[2,]    4    8   12    4\n",
      "[3,]    5    9   13    5\n",
      "[4,]    6   10   14    6\n"
     ]
    }
   ],
   "source": [
    "N <- matrix(c(3:14),nrow=4,ncol=4, byrow=FALSE)\n",
    "print(N)"
   ]
  },
  {
   "cell_type": "code",
   "execution_count": 7,
   "metadata": {},
   "outputs": [],
   "source": [
    "rownames = c(\"row1\",\"row2\",\"row3\",\"row4\")\n",
    "colnames = c(\"col1\",\"col2\",\"col3\")"
   ]
  },
  {
   "cell_type": "code",
   "execution_count": 8,
   "metadata": {},
   "outputs": [
    {
     "data": {
      "text/html": [
       "<ol class=list-inline>\n",
       "\t<li>'row1'</li>\n",
       "\t<li>'row2'</li>\n",
       "\t<li>'row3'</li>\n",
       "\t<li>'row4'</li>\n",
       "</ol>\n"
      ],
      "text/latex": [
       "\\begin{enumerate*}\n",
       "\\item 'row1'\n",
       "\\item 'row2'\n",
       "\\item 'row3'\n",
       "\\item 'row4'\n",
       "\\end{enumerate*}\n"
      ],
      "text/markdown": [
       "1. 'row1'\n",
       "2. 'row2'\n",
       "3. 'row3'\n",
       "4. 'row4'\n",
       "\n",
       "\n"
      ],
      "text/plain": [
       "[1] \"row1\" \"row2\" \"row3\" \"row4\""
      ]
     },
     "metadata": {},
     "output_type": "display_data"
    }
   ],
   "source": [
    "rownames"
   ]
  },
  {
   "cell_type": "code",
   "execution_count": 9,
   "metadata": {},
   "outputs": [
    {
     "name": "stdout",
     "output_type": "stream",
     "text": [
      "     col1 col2 col3\n",
      "row1    3    4    5\n",
      "row2    6    7    8\n",
      "row3    9   10   11\n",
      "row4   12   13   14\n"
     ]
    }
   ],
   "source": [
    "p <- matrix(c(3:14),nrow=4 , byrow=TRUE,dimnames = list(rownames,colnames))\n",
    "print(p)"
   ]
  },
  {
   "cell_type": "markdown",
   "metadata": {},
   "source": [
    "### Accessing Elements of a Matrix"
   ]
  },
  {
   "cell_type": "markdown",
   "metadata": {},
   "source": [
    "Elements of a matrix can be accessed by using the column and row index of the element. We consider the matrix P above to find the specific elements below."
   ]
  },
  {
   "cell_type": "code",
   "execution_count": 10,
   "metadata": {},
   "outputs": [],
   "source": [
    "rownames = c(\"row1\",\"row2\",\"row3\",\"row4\")\n",
    "colnames = c(\"col1\",\"col2\",\"col3\")\n",
    "\n",
    "p <- matrix(c(3:14),nrow=4,byrow=TRUE,dimnames=list(rownames,colnames))"
   ]
  },
  {
   "cell_type": "code",
   "execution_count": 11,
   "metadata": {},
   "outputs": [
    {
     "name": "stdout",
     "output_type": "stream",
     "text": [
      "     col1 col2 col3\n",
      "row1    3    4    5\n",
      "row2    6    7    8\n",
      "row3    9   10   11\n",
      "row4   12   13   14\n"
     ]
    }
   ],
   "source": [
    "print(p)"
   ]
  },
  {
   "cell_type": "code",
   "execution_count": 12,
   "metadata": {},
   "outputs": [
    {
     "name": "stdout",
     "output_type": "stream",
     "text": [
      "[1] 4\n"
     ]
    }
   ],
   "source": [
    "print(p[1,2])"
   ]
  },
  {
   "cell_type": "code",
   "execution_count": 13,
   "metadata": {},
   "outputs": [
    {
     "name": "stdout",
     "output_type": "stream",
     "text": [
      "[1] 9\n"
     ]
    }
   ],
   "source": [
    "print(p[3,1])"
   ]
  },
  {
   "cell_type": "code",
   "execution_count": 14,
   "metadata": {},
   "outputs": [
    {
     "name": "stdout",
     "output_type": "stream",
     "text": [
      "[1] 11\n"
     ]
    }
   ],
   "source": [
    "print(p[3,3])"
   ]
  },
  {
   "cell_type": "markdown",
   "metadata": {},
   "source": [
    "#### Matrix Computations\n",
    "Various mathematical operations are performed on the matrices using the R operators. The result of the operation is also a matrix.\n",
    "\n",
    "The dimensions (number of rows and columns) should be same for the matrices involved in the operation."
   ]
  },
  {
   "cell_type": "code",
   "execution_count": 15,
   "metadata": {},
   "outputs": [
    {
     "name": "stdout",
     "output_type": "stream",
     "text": [
      "     [,1] [,2] [,3]\n",
      "[1,]    3    5   10\n",
      "[2,]    4    2   12\n"
     ]
    }
   ],
   "source": [
    "matrix <-matrix(c(3,4,5,2,10,12),nrow=2)\n",
    "print(matrix)"
   ]
  },
  {
   "cell_type": "code",
   "execution_count": 17,
   "metadata": {},
   "outputs": [],
   "source": [
    "matrix1 <-matrix(c(1,2,3,4,5,6),nrow=2)"
   ]
  },
  {
   "cell_type": "code",
   "execution_count": 18,
   "metadata": {},
   "outputs": [
    {
     "data": {
      "text/html": [
       "<table>\n",
       "<tbody>\n",
       "\t<tr><td>1</td><td>3</td><td>5</td></tr>\n",
       "\t<tr><td>2</td><td>4</td><td>6</td></tr>\n",
       "</tbody>\n",
       "</table>\n"
      ],
      "text/latex": [
       "\\begin{tabular}{lll}\n",
       "\t 1 & 3 & 5\\\\\n",
       "\t 2 & 4 & 6\\\\\n",
       "\\end{tabular}\n"
      ],
      "text/markdown": [
       "\n",
       "| 1 | 3 | 5 |\n",
       "| 2 | 4 | 6 |\n",
       "\n"
      ],
      "text/plain": [
       "     [,1] [,2] [,3]\n",
       "[1,] 1    3    5   \n",
       "[2,] 2    4    6   "
      ]
     },
     "metadata": {},
     "output_type": "display_data"
    }
   ],
   "source": [
    "matrix1"
   ]
  },
  {
   "cell_type": "code",
   "execution_count": 19,
   "metadata": {},
   "outputs": [
    {
     "data": {
      "text/html": [
       "<table>\n",
       "<tbody>\n",
       "\t<tr><td>3 </td><td>5 </td><td>10</td></tr>\n",
       "\t<tr><td>4 </td><td>2 </td><td>12</td></tr>\n",
       "</tbody>\n",
       "</table>\n"
      ],
      "text/latex": [
       "\\begin{tabular}{lll}\n",
       "\t 3  & 5  & 10\\\\\n",
       "\t 4  & 2  & 12\\\\\n",
       "\\end{tabular}\n"
      ],
      "text/markdown": [
       "\n",
       "| 3  | 5  | 10 |\n",
       "| 4  | 2  | 12 |\n",
       "\n"
      ],
      "text/plain": [
       "     [,1] [,2] [,3]\n",
       "[1,] 3    5    10  \n",
       "[2,] 4    2    12  "
      ]
     },
     "metadata": {},
     "output_type": "display_data"
    }
   ],
   "source": [
    "matrix"
   ]
  },
  {
   "cell_type": "code",
   "execution_count": 20,
   "metadata": {},
   "outputs": [],
   "source": [
    "result <- matrix + matrix1"
   ]
  },
  {
   "cell_type": "code",
   "execution_count": 21,
   "metadata": {},
   "outputs": [
    {
     "name": "stdout",
     "output_type": "stream",
     "text": [
      "     [,1] [,2] [,3]\n",
      "[1,]    4    8   15\n",
      "[2,]    6    6   18\n"
     ]
    }
   ],
   "source": [
    "print(resultlt)"
   ]
  },
  {
   "cell_type": "code",
   "execution_count": 22,
   "metadata": {},
   "outputs": [],
   "source": [
    "result <- matrix - matrix1"
   ]
  },
  {
   "cell_type": "code",
   "execution_count": 23,
   "metadata": {},
   "outputs": [
    {
     "data": {
      "text/html": [
       "<table>\n",
       "<tbody>\n",
       "\t<tr><td>2 </td><td> 2</td><td>5 </td></tr>\n",
       "\t<tr><td>2 </td><td>-2</td><td>6 </td></tr>\n",
       "</tbody>\n",
       "</table>\n"
      ],
      "text/latex": [
       "\\begin{tabular}{lll}\n",
       "\t 2  &  2 & 5 \\\\\n",
       "\t 2  & -2 & 6 \\\\\n",
       "\\end{tabular}\n"
      ],
      "text/markdown": [
       "\n",
       "| 2  |  2 | 5  |\n",
       "| 2  | -2 | 6  |\n",
       "\n"
      ],
      "text/plain": [
       "     [,1] [,2] [,3]\n",
       "[1,] 2     2   5   \n",
       "[2,] 2    -2   6   "
      ]
     },
     "metadata": {},
     "output_type": "display_data"
    }
   ],
   "source": [
    "result"
   ]
  },
  {
   "cell_type": "markdown",
   "metadata": {},
   "source": [
    "#### Matrix Multiplication & Division"
   ]
  },
  {
   "cell_type": "code",
   "execution_count": 24,
   "metadata": {},
   "outputs": [
    {
     "name": "stdout",
     "output_type": "stream",
     "text": [
      "     [,1] [,2] [,3]\n",
      "[1,]    3   -1    2\n",
      "[2,]    9    4    6\n"
     ]
    }
   ],
   "source": [
    "matrix1 <- matrix(c(3, 9, -1, 4, 2, 6), nrow = 2)\n",
    "print(matrix1)"
   ]
  },
  {
   "cell_type": "code",
   "execution_count": 25,
   "metadata": {},
   "outputs": [
    {
     "name": "stdout",
     "output_type": "stream",
     "text": [
      "     [,1] [,2] [,3]\n",
      "[1,]    5    0    3\n",
      "[2,]    2    9    4\n"
     ]
    }
   ],
   "source": [
    "matrix2 <- matrix(c(5, 2, 0, 9, 3, 4), nrow = 2)\n",
    "print(matrix2)"
   ]
  },
  {
   "cell_type": "code",
   "execution_count": 26,
   "metadata": {},
   "outputs": [
    {
     "name": "stdout",
     "output_type": "stream",
     "text": [
      "Result of multiplication \n",
      "     [,1] [,2] [,3]\n",
      "[1,]   15    0    6\n",
      "[2,]   18   36   24\n"
     ]
    }
   ],
   "source": [
    "result <- matrix1 * matrix2\n",
    "cat(\"Result of multiplication\",\"\\n\")\n",
    "print(result)"
   ]
  },
  {
   "cell_type": "code",
   "execution_count": 27,
   "metadata": {},
   "outputs": [
    {
     "name": "stdout",
     "output_type": "stream",
     "text": [
      "Result of division \n",
      "     [,1]      [,2]      [,3]\n",
      "[1,]  0.6      -Inf 0.6666667\n",
      "[2,]  4.5 0.4444444 1.5000000\n"
     ]
    }
   ],
   "source": [
    "# Divide the matrices\n",
    "result <- matrix1 / matrix2\n",
    "cat(\"Result of division\",\"\\n\")\n",
    "print(result)"
   ]
  },
  {
   "cell_type": "code",
   "execution_count": null,
   "metadata": {},
   "outputs": [],
   "source": []
  }
 ],
 "metadata": {
  "kernelspec": {
   "display_name": "R",
   "language": "R",
   "name": "ir"
  },
  "language_info": {
   "codemirror_mode": "r",
   "file_extension": ".r",
   "mimetype": "text/x-r-source",
   "name": "R",
   "pygments_lexer": "r",
   "version": "3.6.1"
  }
 },
 "nbformat": 4,
 "nbformat_minor": 2
}
